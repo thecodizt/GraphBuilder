{
 "cells": [
  {
   "cell_type": "code",
   "execution_count": 1,
   "metadata": {},
   "outputs": [],
   "source": [
    "import pandas as pd\n",
    "import numpy as np\n",
    "import os"
   ]
  },
  {
   "cell_type": "code",
   "execution_count": 2,
   "metadata": {},
   "outputs": [],
   "source": [
    "def generate_sample_data(n_samples=1000, n_ids=100, n_files=3):\n",
    "    # Ensure the output directory exists\n",
    "    os.makedirs('data/input', exist_ok=True)\n",
    "\n",
    "    for file_num in range(n_files):\n",
    "        # Generate IDs\n",
    "        ids = np.random.randint(1, n_ids + 1, n_samples)\n",
    "\n",
    "        # Generate timestamps\n",
    "        timestamps = pd.date_range(start='2020-01-01', periods=n_samples, freq='H')\n",
    "        timestamps = timestamps.astype(int) // 10**9  # Convert to Unix timestamp\n",
    "\n",
    "        # Generate multiple value columns\n",
    "        value1 = np.random.randn(n_samples)\n",
    "        value2 = np.random.randn(n_samples)\n",
    "        value3 = np.random.randn(n_samples)\n",
    "\n",
    "        # Generate categorical column\n",
    "        categories = ['A', 'B', 'C', 'D']\n",
    "        category = np.random.choice(categories, n_samples)\n",
    "\n",
    "        # Create DataFrame\n",
    "        df = pd.DataFrame({\n",
    "            'id': ids,\n",
    "            'timestamp': timestamps,\n",
    "            'value1': value1,\n",
    "            'value2': value2,\n",
    "            'value3': value3,\n",
    "            'category': category\n",
    "        })\n",
    "\n",
    "        # Add some missing values\n",
    "        df.loc[np.random.choice(df.index, size=n_samples//10), 'value1'] = np.nan\n",
    "        df.loc[np.random.choice(df.index, size=n_samples//10), 'value2'] = np.nan\n",
    "\n",
    "        # Add some correlated columns\n",
    "        df['correlated_value1'] = df['value1'] * 2 + np.random.randn(n_samples) * 0.1\n",
    "        df['correlated_value2'] = df['value2'] * -1.5 + np.random.randn(n_samples) * 0.1\n",
    "\n",
    "        # For the last file, add an extra column to test flexibility\n",
    "        if file_num == n_files - 1:\n",
    "            df['extra_column'] = np.random.randn(n_samples)\n",
    "\n",
    "        # Save to CSV\n",
    "        filename = f'data/input/sample_data_{file_num + 1}.csv'\n",
    "        df.to_csv(filename, index=False)\n",
    "        print(f\"Generated {filename}\")"
   ]
  },
  {
   "cell_type": "code",
   "execution_count": 3,
   "metadata": {},
   "outputs": [
    {
     "name": "stdout",
     "output_type": "stream",
     "text": [
      "Generated data/input/sample_data_1.csv\n",
      "Generated data/input/sample_data_2.csv\n",
      "Generated data/input/sample_data_3.csv\n"
     ]
    },
    {
     "name": "stderr",
     "output_type": "stream",
     "text": [
      "/var/folders/gv/wlmg8wwj5y39xvbz768_rv9h0000gn/T/ipykernel_14553/1662375916.py:10: FutureWarning: 'H' is deprecated and will be removed in a future version, please use 'h' instead.\n",
      "  timestamps = pd.date_range(start='2020-01-01', periods=n_samples, freq='H')\n",
      "/var/folders/gv/wlmg8wwj5y39xvbz768_rv9h0000gn/T/ipykernel_14553/1662375916.py:10: FutureWarning: 'H' is deprecated and will be removed in a future version, please use 'h' instead.\n",
      "  timestamps = pd.date_range(start='2020-01-01', periods=n_samples, freq='H')\n",
      "/var/folders/gv/wlmg8wwj5y39xvbz768_rv9h0000gn/T/ipykernel_14553/1662375916.py:10: FutureWarning: 'H' is deprecated and will be removed in a future version, please use 'h' instead.\n",
      "  timestamps = pd.date_range(start='2020-01-01', periods=n_samples, freq='H')\n"
     ]
    }
   ],
   "source": [
    "generate_sample_data(n_samples=1000, n_ids=100, n_files=3)"
   ]
  },
  {
   "cell_type": "code",
   "execution_count": null,
   "metadata": {},
   "outputs": [],
   "source": []
  }
 ],
 "metadata": {
  "kernelspec": {
   "display_name": "venv",
   "language": "python",
   "name": "python3"
  },
  "language_info": {
   "codemirror_mode": {
    "name": "ipython",
    "version": 3
   },
   "file_extension": ".py",
   "mimetype": "text/x-python",
   "name": "python",
   "nbconvert_exporter": "python",
   "pygments_lexer": "ipython3",
   "version": "3.12.0"
  }
 },
 "nbformat": 4,
 "nbformat_minor": 2
}
